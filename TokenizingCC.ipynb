{
 "cells": [
  {
   "cell_type": "markdown",
   "metadata": {},
   "source": [
    "# Tokenizing MPE with CC"
   ]
  },
  {
   "cell_type": "code",
   "execution_count": null,
   "metadata": {},
   "outputs": [],
   "source": [
    "### Iterate through all of the 16 MIDI channels.\n",
    "\n",
    "#You have to redistribute all of the polyphonic expressions to the 16 channels properly and make a DAW specific MPE format compatible with normal MIDI format\n",
    "#In Ableton live, it can be easily done via Max for Live.\n",
    "#This process is crucial for prettyMIDI library to fetch the data.\n",
    "\n",
    "import pretty_midi\n",
    "import copy, itertools, collections\n",
    "\n",
    "midi_file = 'gct634-SMD-MIDI/mpee.mid'\n",
    "pm = pretty_midi.PrettyMIDI(midi_file)\n",
    "\n",
    "sorted_notes = [0] * 16\n",
    "event_data = [0] * 16\n",
    "event_seq = [0, 0] * 16\n",
    "cc = [0] * 16\n",
    "for i in range(1):\n",
    "  instrument = pm.instruments[i]\n",
    "  cc[i] = intstument.control_changes\n",
    "  sorted_notes[i] = sorted(instrument.notes, key=lambda note: note.start)\n",
    "\n",
    "  # shift the first note to 0 sec\n",
    "  time_shift = sorted_notes[i][0].start\n",
    "  for note in sorted_notes[i]:\n",
    "    note.start -= time_shift\n",
    "    note.end -= time_shift\n",
    "\n",
    "  # print out note sequences for checking\n",
    "  for j in range(10):\n",
    "    print(sorted_notes[i][j])\n",
    "\n",
    "  # translates the note sequences into the four classes (NOTE_ON, NOTE_OFF, VELOCITY, and TIME_SHIFT) of events.\n",
    "  event_seq[i] = EventSeq.from_note_seq(sorted_notes[i])\n",
    "\n",
    "  # encodes the four classes of events into token indices.\n",
    "  event_data[i] = event_seq[i].to_array()\n",
    "\n",
    "print(cc[0])\n",
    "print(\"--- tokens ---\")\n",
    "print(event_data[0][:20])\n",
    "#Token Size\n",
    "print(\"Token size: \" + str(len(event_data[0])))"
   ]
  }
 ],
 "metadata": {
  "kernelspec": {
   "display_name": "classification",
   "language": "python",
   "name": "python3"
  },
  "language_info": {
   "codemirror_mode": {
    "name": "ipython",
    "version": 3
   },
   "file_extension": ".py",
   "mimetype": "text/x-python",
   "name": "python",
   "nbconvert_exporter": "python",
   "pygments_lexer": "ipython3",
   "version": "3.9.19"
  }
 },
 "nbformat": 4,
 "nbformat_minor": 2
}
